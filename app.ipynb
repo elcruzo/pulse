{
  "nbformat": 4,
  "nbformat_minor": 0,
  "metadata": {
    "colab": {
      "provenance": [],
      "authorship_tag": "ABX9TyMWwWDxS9FQOVMoSFV4He4c",
      "include_colab_link": true
    },
    "kernelspec": {
      "name": "python3",
      "display_name": "Python 3"
    },
    "language_info": {
      "name": "python"
    }
  },
  "cells": [
    {
      "cell_type": "markdown",
      "metadata": {
        "id": "view-in-github",
        "colab_type": "text"
      },
      "source": [
        "<a href=\"https://colab.research.google.com/github/elcruzo/pulse/blob/Abdul/app.ipynb\" target=\"_parent\"><img src=\"https://colab.research.google.com/assets/colab-badge.svg\" alt=\"Open In Colab\"/></a>"
      ]
    },
    {
      "cell_type": "code",
      "execution_count": null,
      "metadata": {
        "id": "hdVi_j1JvbKW"
      },
      "outputs": [],
      "source": [
        "import os\n",
        "import cv2\n",
        "from PIL import Image\n",
        "import numpy as np\n",
        "import segmentation_models as sm\n",
        "from matplotlib import pyplot as plt\n",
        "import random\n",
        "\n",
        "\n",
        "from keras import backend as K\n",
        "from keras.models import load_model\n",
        "\n",
        "import gradio as gr\n",
        "\n",
        "def jaccard_coef(y_true, y_pred):\n",
        "  y_true_flatten = K.flatten(y_true)\n",
        "  y_pred_flatten = K.flatten(y_pred)\n",
        "  intersection = K.sum(y_true_flatten * y_pred_flatten)\n",
        "  final_coef_value = (intersection + 1.0) / (K.sum(y_true_flatten) + K.sum(y_pred_flatten) - intersection + 1.0)\n",
        "  return final_coef_value\n",
        "\n",
        "\n",
        "weights = [0.1666, 0.1666, 0.1666, 0.1666, 0.1666, 0.1666]\n",
        "dice_loss = sm.losses.DiceLoss(class_weights = weights)\n",
        "focal_loss = sm.losses.CategoricalFocalLoss()\n",
        "total_loss = dice_loss + (1 * focal_loss)\n",
        "\n",
        "\n",
        "satellite_model = load_model('model/satellite-imagery.h5', custom_objects=({'dice_loss_plus_1focal_loss': total_loss, 'jaccard_coef': jaccard_coef}))\n",
        "\n",
        "def process_input_image(image_source):\n",
        "  image = np.expand_dims(image_source, 0)\n",
        "\n",
        "  prediction = satellite_model.predict(image)\n",
        "  predicted_image = np.argmax(prediction, axis=3)\n",
        "\n",
        "  predicted_image = predicted_image[0,:,:]\n",
        "  predicted_image = predicted_image * 50\n",
        "  return 'Predicted Masked Image', predicted_image\n",
        "\n",
        "\n",
        "my_app = gr.Blocks()\n",
        "\n",
        "with my_app:\n",
        "  gr.Markdown(\"Satellite Image Segmentation Application UI with Gradio\")\n",
        "  with gr.Tabs():\n",
        "    with gr.TabItem(\"Select your image\"):\n",
        "      with gr.Row():\n",
        "        with gr.Column():\n",
        "          img_source = gr.Image(label=\"Please select source Image\", shape=(256, 256))\n",
        "          source_image_loader = gr.Button(\"Load above Image\")\n",
        "        with gr.Column():\n",
        "          output_label = gr.Label(label=\"Image Info\")\n",
        "          img_output = gr.Image(label=\"Image Output\")\n",
        "    source_image_loader.click(\n",
        "      process_input_image,\n",
        "      [\n",
        "        img_source\n",
        "      ],\n",
        "      [\n",
        "        output_label,\n",
        "        img_output\n",
        "      ]\n",
        "    )\n",
        "\n",
        "my_app.launch(debug=True)"
      ]
    }
  ]
}